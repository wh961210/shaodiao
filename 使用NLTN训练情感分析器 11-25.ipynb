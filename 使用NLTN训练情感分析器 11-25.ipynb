{
 "cells": [
  {
   "cell_type": "code",
   "execution_count": 1,
   "metadata": {},
   "outputs": [
    {
     "name": "stderr",
     "output_type": "stream",
     "text": [
      "[nltk_data] Downloading package movie_reviews to\n",
      "[nltk_data]     C:\\Users\\Administrator\\AppData\\Roaming\\nltk_data...\n",
      "[nltk_data]   Package movie_reviews is already up-to-date!\n"
     ]
    }
   ],
   "source": [
    "# setupNLTK.py\n",
    "import nltk\n",
    "if __name__ == '__main__':\n",
    "    nltk.download('movie_reviews')\n",
    "\n"
   ]
  },
  {
   "cell_type": "code",
   "execution_count": 2,
   "metadata": {},
   "outputs": [],
   "source": [
    "import nltk.classify.util\n",
    "from nltk.classify import NaiveBayesClassifier\n",
    "from nltk.corpus import movie_reviews"
   ]
  },
  {
   "cell_type": "code",
   "execution_count": 3,
   "metadata": {},
   "outputs": [],
   "source": [
    "if __name__ == '__main__':  #导入movie review数据\n",
    "    positive_fileids = movie_reviews.fileids('pos')\n",
    "    negative_fileids = movie_reviews.fileids('neg')"
   ]
  },
  {
   "cell_type": "code",
   "execution_count": 4,
   "metadata": {},
   "outputs": [],
   "source": [
    "def extract_features(word_list):  #提取特征\n",
    "    return dict([(word,True) for word in word_list])"
   ]
  },
  {
   "cell_type": "code",
   "execution_count": 5,
   "metadata": {},
   "outputs": [],
   "source": [
    "features_positive =[(extract_features(movie_reviews.words(fileids=[f])),'Positive') \n",
    "                    for f in positive_fileids]\n",
    "features_negative =[(extract_features(movie_reviews.words(fileids=[f])),'Negative') \n",
    "                    for f in negative_fileids]\n",
    "# 将语料库中的数据通过extract_features提取出来"
   ]
  },
  {
   "cell_type": "code",
   "execution_count": 6,
   "metadata": {},
   "outputs": [],
   "source": [
    "# Split the data into train and test (80/20)\n",
    "# 将数据分成一列进行测试（80/20）\n",
    "# 将数据分成训练数据和测试数据\n",
    "threshold_factor = 0.8\n",
    "threshold_positive =int(threshold_factor*len(features_positive))\n",
    "threshold_negative =int(threshold_factor*len(features_negative))\n",
    "features_train = features_positive[:threshold_positive] + features_negative[:threshold_negative]\n",
    "features_test = features_positive[threshold_positive:] +features_negative[threshold_negative:]"
   ]
  },
  {
   "cell_type": "code",
   "execution_count": 7,
   "metadata": {},
   "outputs": [
    {
     "name": "stdout",
     "output_type": "stream",
     "text": [
      "\n",
      "Accuracy of the classifier: 0.735\n"
     ]
    }
   ],
   "source": [
    "# Train a Naive Bayes classifier\n",
    "# 使用朴素贝叶斯分类器训练\n",
    "classifier = NaiveBayesClassifier.train(features_train)   #accuracy  精确\n",
    "print (\"\\nAccuracy of the classifier:\",nltk.classify.util.accuracy(classifier, features_test))"
   ]
  },
  {
   "cell_type": "code",
   "execution_count": 13,
   "metadata": {},
   "outputs": [
    {
     "name": "stdout",
     "output_type": "stream",
     "text": [
      "\n",
      "Top 10 most informative words:\n",
      "('outstanding', True)\n",
      "('insulting', True)\n",
      "('vulnerable', True)\n",
      "('ludicrous', True)\n",
      "('uninvolving', True)\n",
      "('avoids', True)\n",
      "('astounding', True)\n",
      "('fascination', True)\n",
      "('affecting', True)\n",
      "('anna', True)\n"
     ]
    }
   ],
   "source": [
    "# 分类器对象中存在有从训练数据中获取的对语义最有影响的单词，将他们输出\n",
    "print (\"\\nTop 10 most informative words:\")\n",
    "for item in classifier.most_informative_features()[:10]:\n",
    "    print (item)"
   ]
  },
  {
   "cell_type": "code",
   "execution_count": 9,
   "metadata": {},
   "outputs": [],
   "source": [
    "# Sample input reviews\n",
    "# 输入评论示例\n",
    "# 给一些输入文本\n",
    "input_reviews = [\"It is an amazing movie\",\n",
    " \"This is a dull movie. I would never recommend it toanyone.\",\n",
    " \"A complete and utter destruction of one of the mosticonic superheroes.\"\n",
    " \"0.1 effort and thought put into thestoryline.\"\n",
    " \" A coming of age awkward teenage movie with a'spiderman' stamp put on it.\"\n",
    " \" Bad jokes aimed atteenagers (at best). A complete caricature of a villain,\"\n",
    " \"a complete caricature of a Spiderman.\"\n",
    " \"Just please stopmaking this garbage Put some god damn effort! A totalwaste of time\",\n",
    " \"Just staving off some negative reviews.\"\n",
    " \" Fits wellinto the Marvel movies to date and is an excellentfollow up to Avengers: Endgame.\"]"
   ]
  },
  {
   "cell_type": "code",
   "execution_count": 14,
   "metadata": {},
   "outputs": [
    {
     "name": "stdout",
     "output_type": "stream",
     "text": [
      "Predictions:\n",
      "\n",
      "Review: It is an amazing movie\n",
      "Predicted sentiment: Positive\n",
      "Probability: 0.61\n",
      "\n",
      "Review: This is a dull movie. I would never recommend it toanyone.\n",
      "Predicted sentiment: Negative\n",
      "Probability: 0.77\n",
      "\n",
      "Review: A complete and utter destruction of one of the mosticonic superheroes.0.1 effort and thought put into thestoryline. A coming of age awkward teenage movie with a'spiderman' stamp put on it. Bad jokes aimed atteenagers (at best). A complete caricature of a villain,a complete caricature of a Spiderman.Just please stopmaking this garbage Put some god damn effort! A totalwaste of time\n",
      "Predicted sentiment: Negative\n",
      "Probability: 0.98\n",
      "\n",
      "Review: Just staving off some negative reviews. Fits wellinto the Marvel movies to date and is an excellentfollow up to Avengers: Endgame.\n",
      "Predicted sentiment: Positive\n",
      "Probability: 0.67\n"
     ]
    }
   ],
   "source": [
    "# 用之前训练出的分类器预测文本的分类\n",
    "print (\"Predictions:\")\n",
    "for review in input_reviews:\n",
    "    print (\"\\nReview:\", review)\n",
    "    probdist =classifier.prob_classify(extract_features(review.split()))\n",
    "    pred_sentiment = probdist.max()\n",
    "    print (\"Predicted sentiment:\", pred_sentiment ) #Predicted sentiment预测情绪\n",
    "    print (\"Probability:\",round(probdist.prob(pred_sentiment), 2)) #Probability概率"
   ]
  },
  {
   "cell_type": "code",
   "execution_count": null,
   "metadata": {},
   "outputs": [],
   "source": []
  }
 ],
 "metadata": {
  "kernelspec": {
   "display_name": "Python 3",
   "language": "python",
   "name": "python3"
  },
  "language_info": {
   "codemirror_mode": {
    "name": "ipython",
    "version": 3
   },
   "file_extension": ".py",
   "mimetype": "text/x-python",
   "name": "python",
   "nbconvert_exporter": "python",
   "pygments_lexer": "ipython3",
   "version": "3.7.3"
  }
 },
 "nbformat": 4,
 "nbformat_minor": 2
}
