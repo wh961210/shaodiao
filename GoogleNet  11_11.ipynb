{
 "cells": [
  {
   "cell_type": "markdown",
   "metadata": {},
   "source": [
    "# 实验一\n",
    "自定义Inception网络，并在Kaggle猫/狗数据集上进行训练和测试"
   ]
  },
  {
   "cell_type": "markdown",
   "metadata": {},
   "source": [
    "## 1.加载keras模块"
   ]
  },
  {
   "cell_type": "code",
   "execution_count": 7,
   "metadata": {},
   "outputs": [],
   "source": [
    "from keras.preprocessing.image import ImageDataGenerator\n",
    "from keras.models import Model\n",
    "from keras.layers import Conv2D, AveragePooling2D,Input,BatchNormalization\n",
    "from keras.layers import Activation, Dropout, Flatten, Dense,Concatenate\n",
    "from keras.utils import to_categorical\n",
    "from keras.preprocessing.image import img_to_array\n",
    "from keras.applications.vgg16 import preprocess_input\n",
    "from keras import backend as K\n",
    "import numpy as np"
   ]
  },
  {
   "cell_type": "markdown",
   "metadata": {},
   "source": [
    "### 定义Inception网络结构\n",
    "\n"
   ]
  },
  {
   "cell_type": "code",
   "execution_count": 8,
   "metadata": {
    "scrolled": false
   },
   "outputs": [],
   "source": [
    "img_width, img_height = 50, 50\n",
    "#image_data_format是“返回默认图像的维度顺序”\n",
    "if K.image_data_format() == 'channels_first':\n",
    "    input_shape = (3, img_width, img_height)\n",
    "    bn_axis = 1\n",
    "else:\n",
    "    input_shape = (img_width, img_height, 3)\n",
    "    bn_axis = 3\n",
    "\n",
    "x = Input (input_shape)    \n",
    "#x = AveragePooling2D(\n",
    "#        pool_size=(3, 3),strides=(1, 1), data_format=K.image_data_format())(x)\n",
    "\n",
    "#如果padding设置为same，则说明输入图片大小和输出图片大小是一致的，如果是valid则图片经过滤波器后可能会变小\n",
    "#branch 1\n",
    "branch1_out = Conv2D(16, (1, 1),padding=\"same\",use_bias=False)(x)   \n",
    "#bias是“偏置”      \n",
    "#卷积之后，如果要接BN操作，最好是不设置偏置，因为不起作用，而且占显卡内存。\n",
    "branch1_out = BatchNormalization(axis=bn_axis)(branch1_out)\n",
    "branch1_out = Activation('relu')(branch1_out)\n",
    "#BatchNormalization是“批量规范化 ”   \n",
    "    \n",
    "#branch 2   \n",
    "branch2_out = Conv2D(16, (1, 1),padding=\"same\",use_bias=False)(x)\n",
    "branch2_out = BatchNormalization(axis=bn_axis)(branch2_out)\n",
    "branch2_out = Activation('relu')(branch2_out)\n",
    "\n",
    "branch2_out = Conv2D(48, (3, 3),padding=\"same\",use_bias=False)(branch2_out)\n",
    "branch2_out = BatchNormalization(axis=bn_axis)(branch2_out)\n",
    "branch2_out = Activation('relu')(branch2_out) \n",
    "\n",
    "\n",
    "#branch 3\n",
    "branch3_out = Conv2D(16, (1, 1),padding=\"same\",use_bias=False)(x)\n",
    "branch3_out = BatchNormalization(axis=bn_axis)(branch3_out)\n",
    "branch3_out = Activation('relu')(branch3_out)\n",
    "\n",
    "branch3_out = Conv2D(24, (5, 5),padding=\"same\",use_bias=False)(branch3_out)\n",
    "branch3_out = BatchNormalization(axis=bn_axis)(branch3_out)\n",
    "branch3_out = Activation('relu')(branch3_out) \n",
    "\n",
    "#branch 4\n",
    "branch4_out = AveragePooling2D(pool_size=(3, 3),strides=(1, 1), padding='same', data_format=K.image_data_format())(x)\n",
    "\n",
    "branch4_out = Conv2D(16, (1, 1),padding=\"same\",use_bias=False)(branch4_out)\n",
    "branch4_out = BatchNormalization(axis=bn_axis)(branch4_out)\n",
    "branch4_out = Activation('relu')(branch4_out) \n",
    "\n",
    "#concatenate layer（连接层）\n",
    "out = Concatenate(axis=bn_axis)([branch1_out, branch2_out, branch3_out, branch4_out])\n",
    "out = Conv2D(16, (1, 1),padding=\"same\",use_bias=False)(out)\n",
    "\n",
    "#fully connected layer（全连接层）\n",
    "out = Flatten()(out)\n",
    "out = Dense(48, activation='relu')(out)\n",
    "#output layer\n",
    "out = Dense(1, activation='sigmoid')(out)\n",
    "\n",
    "model = Model(x, out)\n",
    "\n",
    "model.compile(loss='binary_crossentropy',\n",
    "              optimizer='rmsprop',\n",
    "              metrics=['accuracy'])"
   ]
  },
  {
   "cell_type": "markdown",
   "metadata": {},
   "source": [
    "### 查看model架构\n",
    "\n"
   ]
  },
  {
   "cell_type": "code",
   "execution_count": 9,
   "metadata": {
    "scrolled": true
   },
   "outputs": [
    {
     "name": "stdout",
     "output_type": "stream",
     "text": [
      "Model: \"model_2\"\n",
      "__________________________________________________________________________________________________\n",
      "Layer (type)                    Output Shape         Param #     Connected to                     \n",
      "==================================================================================================\n",
      "input_3 (InputLayer)            (None, 50, 50, 3)    0                                            \n",
      "__________________________________________________________________________________________________\n",
      "conv2d_11 (Conv2D)              (None, 50, 50, 16)   48          input_3[0][0]                    \n",
      "__________________________________________________________________________________________________\n",
      "conv2d_13 (Conv2D)              (None, 50, 50, 16)   48          input_3[0][0]                    \n",
      "__________________________________________________________________________________________________\n",
      "batch_normalization_8 (BatchNor (None, 50, 50, 16)   64          conv2d_11[0][0]                  \n",
      "__________________________________________________________________________________________________\n",
      "batch_normalization_10 (BatchNo (None, 50, 50, 16)   64          conv2d_13[0][0]                  \n",
      "__________________________________________________________________________________________________\n",
      "activation_8 (Activation)       (None, 50, 50, 16)   0           batch_normalization_8[0][0]      \n",
      "__________________________________________________________________________________________________\n",
      "activation_10 (Activation)      (None, 50, 50, 16)   0           batch_normalization_10[0][0]     \n",
      "__________________________________________________________________________________________________\n",
      "average_pooling2d_2 (AveragePoo (None, 50, 50, 3)    0           input_3[0][0]                    \n",
      "__________________________________________________________________________________________________\n",
      "conv2d_10 (Conv2D)              (None, 50, 50, 16)   48          input_3[0][0]                    \n",
      "__________________________________________________________________________________________________\n",
      "conv2d_12 (Conv2D)              (None, 50, 50, 48)   6912        activation_8[0][0]               \n",
      "__________________________________________________________________________________________________\n",
      "conv2d_14 (Conv2D)              (None, 50, 50, 24)   9600        activation_10[0][0]              \n",
      "__________________________________________________________________________________________________\n",
      "conv2d_15 (Conv2D)              (None, 50, 50, 16)   48          average_pooling2d_2[0][0]        \n",
      "__________________________________________________________________________________________________\n",
      "batch_normalization_7 (BatchNor (None, 50, 50, 16)   64          conv2d_10[0][0]                  \n",
      "__________________________________________________________________________________________________\n",
      "batch_normalization_9 (BatchNor (None, 50, 50, 48)   192         conv2d_12[0][0]                  \n",
      "__________________________________________________________________________________________________\n",
      "batch_normalization_11 (BatchNo (None, 50, 50, 24)   96          conv2d_14[0][0]                  \n",
      "__________________________________________________________________________________________________\n",
      "batch_normalization_12 (BatchNo (None, 50, 50, 16)   64          conv2d_15[0][0]                  \n",
      "__________________________________________________________________________________________________\n",
      "activation_7 (Activation)       (None, 50, 50, 16)   0           batch_normalization_7[0][0]      \n",
      "__________________________________________________________________________________________________\n",
      "activation_9 (Activation)       (None, 50, 50, 48)   0           batch_normalization_9[0][0]      \n",
      "__________________________________________________________________________________________________\n",
      "activation_11 (Activation)      (None, 50, 50, 24)   0           batch_normalization_11[0][0]     \n",
      "__________________________________________________________________________________________________\n",
      "activation_12 (Activation)      (None, 50, 50, 16)   0           batch_normalization_12[0][0]     \n",
      "__________________________________________________________________________________________________\n",
      "concatenate_2 (Concatenate)     (None, 50, 50, 104)  0           activation_7[0][0]               \n",
      "                                                                 activation_9[0][0]               \n",
      "                                                                 activation_11[0][0]              \n",
      "                                                                 activation_12[0][0]              \n",
      "__________________________________________________________________________________________________\n",
      "conv2d_16 (Conv2D)              (None, 50, 50, 16)   1664        concatenate_2[0][0]              \n",
      "__________________________________________________________________________________________________\n",
      "flatten_2 (Flatten)             (None, 40000)        0           conv2d_16[0][0]                  \n",
      "__________________________________________________________________________________________________\n",
      "dense_3 (Dense)                 (None, 48)           1920048     flatten_2[0][0]                  \n",
      "__________________________________________________________________________________________________\n",
      "dense_4 (Dense)                 (None, 1)            49          dense_3[0][0]                    \n",
      "==================================================================================================\n",
      "Total params: 1,939,009\n",
      "Trainable params: 1,938,737\n",
      "Non-trainable params: 272\n",
      "__________________________________________________________________________________________________\n"
     ]
    }
   ],
   "source": [
    "model.summary()"
   ]
  },
  {
   "cell_type": "markdown",
   "metadata": {},
   "source": [
    "### 定义ImageDataGenerator\n"
   ]
  },
  {
   "cell_type": "code",
   "execution_count": 4,
   "metadata": {},
   "outputs": [
    {
     "name": "stdout",
     "output_type": "stream",
     "text": [
      "Found 10835 images belonging to 2 classes.\n",
      "Found 4000 images belonging to 2 classes.\n"
     ]
    }
   ],
   "source": [
    "train_data_dir = r'C:\\Users\\Administrator\\Desktop\\kejian\\an11.6\\dogs-vs-cats\\train'\n",
    "validation_data_dir = r'C:\\Users\\Administrator\\Desktop\\keji\\11.6\\dogs-vs-cats\\validation'\n",
    "nb_train_samples = 10835\n",
    "nb_validation_samples = 4000\n",
    "epochs = 1\n",
    "batch_size = 5\n",
    "\n",
    "#ImageDataGenerator是“图像数据生成器”\n",
    "# this is the augmentation configuration we will use for training（这是我们将用于训练的增强配置）\n",
    "train_datagen = ImageDataGenerator(\n",
    "    rescale=1. / 255,      #重新缩放\n",
    "    shear_range=0.2,      #剪切范围\n",
    "    zoom_range=0.2,     #缩放范围\n",
    "    horizontal_flip=True)  #水平翻转\n",
    "\n",
    "# this is the augmentation configuration we will use for testing:（这是我们将用于测试的增强配置：）\n",
    "# only rescaling（仅重新缩放）\n",
    "test_datagen = ImageDataGenerator(rescale=1. / 255)\n",
    "\n",
    "\n",
    "\n",
    "train_generator = train_datagen.flow_from_directory(\n",
    "    train_data_dir,\n",
    "    target_size=(img_width, img_height),\n",
    "    batch_size=batch_size,\n",
    "    class_mode='binary')\n",
    "#validation验证   target目标   batch批量  generator发生器\n",
    "validation_generator = test_datagen.flow_from_directory(\n",
    "    validation_data_dir,\n",
    "    target_size=(img_width, img_height),\n",
    "    batch_size=batch_size,\n",
    "    class_mode='binary')\n",
    "\n"
   ]
  },
  {
   "cell_type": "markdown",
   "metadata": {},
   "source": [
    "### 训练模型\n",
    "\n"
   ]
  },
  {
   "cell_type": "code",
   "execution_count": 5,
   "metadata": {
    "scrolled": false
   },
   "outputs": [
    {
     "name": "stdout",
     "output_type": "stream",
     "text": [
      "Epoch 1/1\n",
      "2167/2167 [==============================] - 194s 90ms/step - loss: 0.8479 - accuracy: 0.5710 - val_loss: 0.7436 - val_accuracy: 0.5893\n"
     ]
    },
    {
     "data": {
      "text/plain": [
       "<keras.callbacks.callbacks.History at 0x1673b3c8>"
      ]
     },
     "execution_count": 5,
     "metadata": {},
     "output_type": "execute_result"
    }
   ],
   "source": [
    "model.fit_generator(\n",
    "    train_generator,\n",
    "    steps_per_epoch=nb_train_samples // batch_size,\n",
    "    epochs=epochs,\n",
    "    validation_data=validation_generator,\n",
    "    validation_steps=nb_validation_samples // batch_size)"
   ]
  },
  {
   "cell_type": "markdown",
   "metadata": {},
   "source": [
    "### 使用训练后模型预测图像\n",
    "\n",
    "\n",
    "\n"
   ]
  },
  {
   "cell_type": "code",
   "execution_count": 11,
   "metadata": {},
   "outputs": [
    {
     "name": "stdout",
     "output_type": "stream",
     "text": [
      "[[1.]]\n"
     ]
    }
   ],
   "source": [
    "import cv2\n",
    "\n",
    "img = cv2.resize(cv2.imread(r'C:\\Users\\Administrator\\Desktop\\kejian\\11.6\\dogs-vs-cats\\test\\7.jpg'), (img_width, img_height)).astype(np.float32)\n",
    "# img[:,:,0] -= 103.939\n",
    "# img[:,:,1] -= 116.779\n",
    "# img[:,:,2] -= 123.68\n",
    "#img = img.transpose((2,0,1))\n",
    "x = img_to_array(img)\n",
    "\n",
    "x = np.expand_dims(x, axis=0)\n",
    "\n",
    "#x = preprocess_input(x)\n",
    "\n",
    "score = model.predict(x)\n",
    "\n",
    "\n",
    "print(score)"
   ]
  },
  {
   "cell_type": "code",
   "execution_count": null,
   "metadata": {},
   "outputs": [],
   "source": []
  }
 ],
 "metadata": {
  "kernelspec": {
   "display_name": "Python 3",
   "language": "python",
   "name": "python3"
  },
  "language_info": {
   "codemirror_mode": {
    "name": "ipython",
    "version": 3
   },
   "file_extension": ".py",
   "mimetype": "text/x-python",
   "name": "python",
   "nbconvert_exporter": "python",
   "pygments_lexer": "ipython3",
   "version": "3.7.3"
  },
  "ssap_exp_config": {
   "error_alert": "Error Occurs!",
   "initial": [],
   "max_iteration": 1000,
   "recv_id": "",
   "running": [],
   "summary": [],
   "version": "1.1.1"
  }
 },
 "nbformat": 4,
 "nbformat_minor": 1
}
