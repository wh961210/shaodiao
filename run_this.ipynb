{
 "cells": [
  {
   "cell_type": "code",
   "execution_count": 1,
   "metadata": {},
   "outputs": [
    {
     "ename": "ModuleNotFoundError",
     "evalue": "No module named 'maze_env'",
     "output_type": "error",
     "traceback": [
      "\u001b[1;31m---------------------------------------------------------------------------\u001b[0m",
      "\u001b[1;31mModuleNotFoundError\u001b[0m                       Traceback (most recent call last)",
      "\u001b[1;32m<ipython-input-1-b713921cc0bc>\u001b[0m in \u001b[0;36m<module>\u001b[1;34m\u001b[0m\n\u001b[1;32m----> 1\u001b[1;33m \u001b[1;32mfrom\u001b[0m \u001b[0mmaze_env\u001b[0m \u001b[1;32mimport\u001b[0m \u001b[0mMaze\u001b[0m\u001b[1;33m\u001b[0m\u001b[1;33m\u001b[0m\u001b[0m\n\u001b[0m\u001b[0;32m      2\u001b[0m \u001b[1;32mfrom\u001b[0m \u001b[0mRL_brain\u001b[0m \u001b[1;32mimport\u001b[0m \u001b[0mQLearningTable\u001b[0m\u001b[1;33m\u001b[0m\u001b[1;33m\u001b[0m\u001b[0m\n",
      "\u001b[1;31mModuleNotFoundError\u001b[0m: No module named 'maze_env'"
     ]
    }
   ],
   "source": [
    "from maze_env import Maze\n",
    "from RL_brain import QLearningTable"
   ]
  },
  {
   "cell_type": "code",
   "execution_count": null,
   "metadata": {},
   "outputs": [],
   "source": [
    "def update():\n",
    "    # 学习 100 回合\n",
    "    for episode in range(100):\n",
    "        # 初始化 state 的观测值\n",
    "        observation = env.reset()\n",
    "\n",
    "        while True:\n",
    "            # 更新可视化环境\n",
    "            env.render()\n",
    "\n",
    "            # RL 大脑根据 state 的观测值挑选 action\n",
    "            action = RL.choose_action(str(observation))\n",
    "\n",
    "            # 探索者在环境中实施这个 action, 并得到环境返回的下一个 state 观测值, reward 和 done (是否是掉下地狱或者升上天堂)\n",
    "            observation_, reward, done = env.step(action)\n",
    "\n",
    "            # RL 从这个序列 (state, action, reward, state_) 中学习\n",
    "            RL.learn(str(observation), action, reward, str(observation_))\n",
    "\n",
    "            # 将下一个 state 的值传到下一次循环\n",
    "            observation = observation_\n",
    "\n",
    "            # 如果掉下地狱或者升上天堂, 这回合就结束了\n",
    "            if done:\n",
    "                break\n",
    "\n",
    "    # 结束游戏并关闭窗口\n",
    "    print('game over')\n",
    "    env.destroy()\n",
    "\n"
   ]
  },
  {
   "cell_type": "code",
   "execution_count": null,
   "metadata": {},
   "outputs": [],
   "source": [
    "if __name__ == \"__main__\":\n",
    "    # 定义环境 env 和 RL 方式\n",
    "    env = Maze()\n",
    "    RL = QLearningTable(actions=list(range(env.n_actions)))\n",
    "\n",
    "    # 开始可视化环境 env\n",
    "    env.after(100, update)\n",
    "    env.mainloop()"
   ]
  }
 ],
 "metadata": {
  "kernelspec": {
   "display_name": "Python 3",
   "language": "python",
   "name": "python3"
  },
  "language_info": {
   "codemirror_mode": {
    "name": "ipython",
    "version": 3
   },
   "file_extension": ".py",
   "mimetype": "text/x-python",
   "name": "python",
   "nbconvert_exporter": "python",
   "pygments_lexer": "ipython3",
   "version": "3.7.3"
  }
 },
 "nbformat": 4,
 "nbformat_minor": 4
}
