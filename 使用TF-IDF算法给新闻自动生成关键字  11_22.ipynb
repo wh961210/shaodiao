{
 "cells": [
  {
   "cell_type": "code",
   "execution_count": 28,
   "metadata": {},
   "outputs": [],
   "source": [
    "def is_chinese(uchar): \n",
    "    if uchar >= u'\\u4e00' and uchar <= u'\\u9fa5': \n",
    "        return True \n",
    "    else:return False \n",
    "\n",
    "def format_str(content): \n",
    "    content_str = '' \n",
    "    for i in content: \n",
    "        if is_chinese(i): \n",
    "            content_str = content_str + ｉ \n",
    "    return content_str"
   ]
  },
  {
   "cell_type": "code",
   "execution_count": 29,
   "metadata": {},
   "outputs": [],
   "source": [
    "from sklearn import feature_extraction \n",
    "from sklearn.feature_extraction.text import TfidfTransformer \n",
    "from sklearn.feature_extraction.text import CountVectorizer \n",
    "import numpy as np"
   ]
  },
  {
   "cell_type": "code",
   "execution_count": 30,
   "metadata": {},
   "outputs": [],
   "source": [
    "filenames = [\"C:/Users/Administrator/Desktop/hui89/a.txt\",\"C:/Users/Administrator/Desktop/hui89/b.txt\",\"C:/Users/Administrator/Desktop/hui89/c.txt\"] \n",
    "\n",
    "if __name__ == \"__main__\": \n",
    "    corpus = [] \n",
    "    for name in filenames: \n",
    "        with open(name,'r') as f: \n",
    "            str = f.read() \n",
    "            str = format_str(str) \n",
    "            str = seg.cut(str) \n",
    "            corpus.append(\" \".join(str))"
   ]
  },
  {
   "cell_type": "code",
   "execution_count": 31,
   "metadata": {},
   "outputs": [],
   "source": [
    "vectorizer=CountVectorizer() \n",
    "#该类会将文本中的词语转换为词频矩阵，矩阵元素a[i][j] 表示j词在i 类文本下的词频 \n",
    "transformer=TfidfTransformer() #该类会统计每个词语的tf- idf权值 \n",
    "tfidf=transformer.fit_transform(vectorizer.fit_transform( corpus)) #第一个fit_transform是计算tf-idf，第二个fit_transform是将 文本转为词频矩阵 \n",
    "word=vectorizer.get_feature_names() #获取词袋模型中的所有词语 \n",
    "weight=tfidf.toarray() #将tf-idf矩阵抽取出来，元素a[i][j]表示j词在i类文本中的tf-idf 权重"
   ]
  },
  {
   "cell_type": "code",
   "execution_count": 32,
   "metadata": {},
   "outputs": [
    {
     "name": "stdout",
     "output_type": "stream",
     "text": [
      "C:/Users/Administrator/Desktop/hui89/a.txt : \n",
      "1 书店 0.8038555499208456\n",
      "2 实体 0.30655508259693265\n",
      "3 扶持 0.19074538472698033\n",
      "4 北京市 0.1839330495581596\n",
      "5 特色 0.1566837088828767\n",
      "C:/Users/Administrator/Desktop/hui89/b.txt : \n",
      "1 生猪 0.46740752352189674\n",
      "2 猪肉 0.25168097420409824\n",
      "3 生产 0.21572654931779847\n",
      "4 养殖 0.143817699545199\n",
      "5 养猪场 0.143817699545199\n",
      "C:/Users/Administrator/Desktop/hui89/c.txt : \n",
      "1 韩国 0.48065426673744893\n",
      "2 美国 0.320436177824966\n",
      "3 防卫费 0.2670301481874716\n",
      "4 报道 0.2670301481874716\n",
      "5 美方 0.21362411854997732\n"
     ]
    }
   ],
   "source": [
    "for (name, w) in zip(filenames,weight): \n",
    "    print(name,\": \") \n",
    "    loc = np.argsort(-w) \n",
    "    for i in range(5): \n",
    "        print(i+1,word[loc[i]], w[loc[i]])"
   ]
  },
  {
   "cell_type": "code",
   "execution_count": null,
   "metadata": {},
   "outputs": [],
   "source": []
  }
 ],
 "metadata": {
  "kernelspec": {
   "display_name": "Python 3",
   "language": "python",
   "name": "python3"
  },
  "language_info": {
   "codemirror_mode": {
    "name": "ipython",
    "version": 3
   },
   "file_extension": ".py",
   "mimetype": "text/x-python",
   "name": "python",
   "nbconvert_exporter": "python",
   "pygments_lexer": "ipython3",
   "version": "3.7.3"
  }
 },
 "nbformat": 4,
 "nbformat_minor": 2
}
